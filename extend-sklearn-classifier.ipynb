{
 "cells": [
  {
   "cell_type": "code",
   "execution_count": 1,
   "metadata": {
    "ExecuteTime": {
     "end_time": "2020-03-31T00:49:24.284907Z",
     "start_time": "2020-03-31T00:49:21.419828Z"
    },
    "collapsed": false
   },
   "outputs": [
    {
     "name": "stderr",
     "output_type": "stream",
     "text": [
      "D:\\Soft\\Anaconda3\\lib\\site-packages\\numpy\\_distributor_init.py:32: UserWarning: loaded more than 1 DLL from .libs:\n",
      "D:\\Soft\\Anaconda3\\lib\\site-packages\\numpy\\.libs\\libopenblas.IPBC74C7KURV7CB2PKT5Z5FNR3SIBV4J.gfortran-win_amd64.dll\n",
      "D:\\Soft\\Anaconda3\\lib\\site-packages\\numpy\\.libs\\libopenblas.TXA6YQSD3GCQQC22GEQ54J2UDCXDXHWN.gfortran-win_amd64.dll\n",
      "  stacklevel=1)\n"
     ]
    }
   ],
   "source": [
    "from typing import List, Tuple\n",
    "\n",
    "from sklearn.linear_model import SGDClassifier\n",
    "from sklearn.datasets import fetch_20newsgroups\n",
    "from sklearn.metrics import roc_auc_score, classification_report, plot_confusion_matrix\n",
    "from sklearn.feature_extraction.text import TfidfVectorizer\n",
    "from sklearn.model_selection import train_test_split\n",
    "from sklearn.pipeline import Pipeline\n",
    "from sklearn.base import clone as clone_model\n",
    "\n",
    "import pandas as pd\n",
    "import numpy as np\n",
    "from matplotlib import pyplot as plt\n",
    "\n",
    "from stop_words import get_stop_words\n",
    "\n",
    "np.random.seed = 0\n",
    "\n",
    "%matplotlib inline"
   ]
  },
  {
   "cell_type": "code",
   "execution_count": 2,
   "metadata": {
    "ExecuteTime": {
     "end_time": "2020-03-31T00:49:24.709868Z",
     "start_time": "2020-03-31T00:49:24.286864Z"
    },
    "collapsed": false
   },
   "outputs": [
    {
     "data": {
      "text/plain": [
       "{0: 'alt.atheism',\n",
       " 1: 'comp.graphics',\n",
       " 2: 'comp.os.ms-windows.misc',\n",
       " 3: 'comp.sys.ibm.pc.hardware',\n",
       " 4: 'comp.sys.mac.hardware',\n",
       " 5: 'comp.windows.x',\n",
       " 6: 'misc.forsale',\n",
       " 7: 'rec.autos',\n",
       " 8: 'rec.motorcycles',\n",
       " 9: 'rec.sport.baseball',\n",
       " 10: 'rec.sport.hockey',\n",
       " 11: 'sci.crypt',\n",
       " 12: 'sci.electronics',\n",
       " 13: 'sci.med',\n",
       " 14: 'sci.space',\n",
       " 15: 'soc.religion.christian',\n",
       " 16: 'talk.politics.guns',\n",
       " 17: 'talk.politics.mideast',\n",
       " 18: 'talk.politics.misc',\n",
       " 19: 'talk.religion.misc'}"
      ]
     },
     "execution_count": 2,
     "metadata": {},
     "output_type": "execute_result"
    }
   ],
   "source": [
    "twenty_newsgroup = fetch_20newsgroups('./', subset='all')\n",
    "subj_id_subj_title = dict(zip(range(len(twenty_newsgroup.target_names)), twenty_newsgroup.target_names))\n",
    "subj_id_subj_title"
   ]
  },
  {
   "cell_type": "code",
   "execution_count": 3,
   "metadata": {
    "ExecuteTime": {
     "end_time": "2020-03-31T00:49:24.787864Z",
     "start_time": "2020-03-31T00:49:24.712866Z"
    },
    "collapsed": false
   },
   "outputs": [
    {
     "data": {
      "text/html": [
       "<div>\n",
       "<style scoped>\n",
       "    .dataframe tbody tr th:only-of-type {\n",
       "        vertical-align: middle;\n",
       "    }\n",
       "\n",
       "    .dataframe tbody tr th {\n",
       "        vertical-align: top;\n",
       "    }\n",
       "\n",
       "    .dataframe thead th {\n",
       "        text-align: right;\n",
       "    }\n",
       "</style>\n",
       "<table border=\"1\" class=\"dataframe\">\n",
       "  <thead>\n",
       "    <tr style=\"text-align: right;\">\n",
       "      <th></th>\n",
       "      <th>Text</th>\n",
       "      <th>Target</th>\n",
       "    </tr>\n",
       "  </thead>\n",
       "  <tbody>\n",
       "    <tr>\n",
       "      <th>0</th>\n",
       "      <td>From: Mamatha Devineni Ratnam &lt;mr47+@andrew.cm...</td>\n",
       "      <td>rec.sport.hockey</td>\n",
       "    </tr>\n",
       "    <tr>\n",
       "      <th>1</th>\n",
       "      <td>From: mblawson@midway.ecn.uoknor.edu (Matthew ...</td>\n",
       "      <td>comp.sys.ibm.pc.hardware</td>\n",
       "    </tr>\n",
       "    <tr>\n",
       "      <th>2</th>\n",
       "      <td>From: hilmi-er@dsv.su.se (Hilmi Eren)\\nSubject...</td>\n",
       "      <td>talk.politics.mideast</td>\n",
       "    </tr>\n",
       "    <tr>\n",
       "      <th>3</th>\n",
       "      <td>From: guyd@austin.ibm.com (Guy Dawson)\\nSubjec...</td>\n",
       "      <td>comp.sys.ibm.pc.hardware</td>\n",
       "    </tr>\n",
       "    <tr>\n",
       "      <th>4</th>\n",
       "      <td>From: Alexander Samuel McDiarmid &lt;am2o+@andrew...</td>\n",
       "      <td>comp.sys.mac.hardware</td>\n",
       "    </tr>\n",
       "  </tbody>\n",
       "</table>\n",
       "</div>"
      ],
      "text/plain": [
       "                                                Text                    Target\n",
       "0  From: Mamatha Devineni Ratnam <mr47+@andrew.cm...          rec.sport.hockey\n",
       "1  From: mblawson@midway.ecn.uoknor.edu (Matthew ...  comp.sys.ibm.pc.hardware\n",
       "2  From: hilmi-er@dsv.su.se (Hilmi Eren)\\nSubject...     talk.politics.mideast\n",
       "3  From: guyd@austin.ibm.com (Guy Dawson)\\nSubjec...  comp.sys.ibm.pc.hardware\n",
       "4  From: Alexander Samuel McDiarmid <am2o+@andrew...     comp.sys.mac.hardware"
      ]
     },
     "execution_count": 3,
     "metadata": {},
     "output_type": "execute_result"
    }
   ],
   "source": [
    "twenty_newsgroup_df = pd.DataFrame()\n",
    "twenty_newsgroup_df['Text'] = twenty_newsgroup.data\n",
    "twenty_newsgroup_df['Target'] = twenty_newsgroup.target\n",
    "twenty_newsgroup_df['Target'] = twenty_newsgroup_df['Target'].replace(subj_id_subj_title)\n",
    "twenty_newsgroup_df.head()"
   ]
  },
  {
   "cell_type": "code",
   "execution_count": 4,
   "metadata": {
    "ExecuteTime": {
     "end_time": "2020-03-31T00:49:24.805865Z",
     "start_time": "2020-03-31T00:49:24.790864Z"
    },
    "collapsed": false
   },
   "outputs": [],
   "source": [
    "initial_categories = {\n",
    "    'rec.sport.baseball': 'sport',\n",
    "    'rec.sport.hockey': 'sport',\n",
    "    'talk.politics.guns': 'politics',\n",
    "    'talk.politics.mideast': 'politics',\n",
    "    'talk.politics.misc': 'politics',\n",
    "    'comp.sys.ibm.pc.hardware': 'hardware',\n",
    "    'comp.sys.mac.hardware': 'hardware',\n",
    "    'talk.religion.misc': 'religion',\n",
    "    'rec.motorcycles': 'motorcycles',\n",
    "    'sci.electronics': 'electronics',\n",
    "    'comp.graphics': 'graphics'\n",
    "}"
   ]
  },
  {
   "cell_type": "code",
   "execution_count": 5,
   "metadata": {
    "ExecuteTime": {
     "end_time": "2020-03-31T00:49:24.821867Z",
     "start_time": "2020-03-31T00:49:24.809867Z"
    },
    "collapsed": true
   },
   "outputs": [],
   "source": [
    "source_cat = ['rec.sport.baseball', 'talk.politics.guns', 'comp.sys.ibm.pc.hardware']\n",
    "added_cat = ['sci.electronics']"
   ]
  },
  {
   "cell_type": "code",
   "execution_count": 6,
   "metadata": {
    "ExecuteTime": {
     "end_time": "2020-03-31T00:49:24.872871Z",
     "start_time": "2020-03-31T00:49:24.828871Z"
    },
    "collapsed": false
   },
   "outputs": [
    {
     "data": {
      "text/html": [
       "<div>\n",
       "<style scoped>\n",
       "    .dataframe tbody tr th:only-of-type {\n",
       "        vertical-align: middle;\n",
       "    }\n",
       "\n",
       "    .dataframe tbody tr th {\n",
       "        vertical-align: top;\n",
       "    }\n",
       "\n",
       "    .dataframe thead th {\n",
       "        text-align: right;\n",
       "    }\n",
       "</style>\n",
       "<table border=\"1\" class=\"dataframe\">\n",
       "  <thead>\n",
       "    <tr style=\"text-align: right;\">\n",
       "      <th></th>\n",
       "      <th>Text</th>\n",
       "      <th>Target</th>\n",
       "    </tr>\n",
       "  </thead>\n",
       "  <tbody>\n",
       "    <tr>\n",
       "      <th>1</th>\n",
       "      <td>From: mblawson@midway.ecn.uoknor.edu (Matthew ...</td>\n",
       "      <td>comp.sys.ibm.pc.hardware</td>\n",
       "    </tr>\n",
       "    <tr>\n",
       "      <th>3</th>\n",
       "      <td>From: guyd@austin.ibm.com (Guy Dawson)\\nSubjec...</td>\n",
       "      <td>comp.sys.ibm.pc.hardware</td>\n",
       "    </tr>\n",
       "    <tr>\n",
       "      <th>5</th>\n",
       "      <td>From: tell@cs.unc.edu (Stephen Tell)\\nSubject:...</td>\n",
       "      <td>sci.electronics</td>\n",
       "    </tr>\n",
       "    <tr>\n",
       "      <th>16</th>\n",
       "      <td>From: csulo@csv.warwick.ac.uk (Mr M J Brown)\\n...</td>\n",
       "      <td>sci.electronics</td>\n",
       "    </tr>\n",
       "    <tr>\n",
       "      <th>17</th>\n",
       "      <td>From: schmidt@auvax1.adelphi.edu\\nSubject: Re:...</td>\n",
       "      <td>sci.electronics</td>\n",
       "    </tr>\n",
       "  </tbody>\n",
       "</table>\n",
       "</div>"
      ],
      "text/plain": [
       "                                                 Text  \\\n",
       "1   From: mblawson@midway.ecn.uoknor.edu (Matthew ...   \n",
       "3   From: guyd@austin.ibm.com (Guy Dawson)\\nSubjec...   \n",
       "5   From: tell@cs.unc.edu (Stephen Tell)\\nSubject:...   \n",
       "16  From: csulo@csv.warwick.ac.uk (Mr M J Brown)\\n...   \n",
       "17  From: schmidt@auvax1.adelphi.edu\\nSubject: Re:...   \n",
       "\n",
       "                      Target  \n",
       "1   comp.sys.ibm.pc.hardware  \n",
       "3   comp.sys.ibm.pc.hardware  \n",
       "5            sci.electronics  \n",
       "16           sci.electronics  \n",
       "17           sci.electronics  "
      ]
     },
     "execution_count": 6,
     "metadata": {},
     "output_type": "execute_result"
    }
   ],
   "source": [
    "filtered = twenty_newsgroup_df.copy()\n",
    "filtered = filtered[filtered['Target'].isin(source_cat + added_cat)]\n",
    "filtered.head()"
   ]
  },
  {
   "cell_type": "code",
   "execution_count": 7,
   "metadata": {
    "ExecuteTime": {
     "end_time": "2020-03-31T00:49:24.889867Z",
     "start_time": "2020-03-31T00:49:24.877874Z"
    },
    "collapsed": false
   },
   "outputs": [],
   "source": [
    "initial_df = filtered[filtered['Target'].isin(source_cat)]\n",
    "additional_df = filtered[filtered['Target'].isin(added_cat)]"
   ]
  },
  {
   "cell_type": "code",
   "execution_count": 8,
   "metadata": {
    "ExecuteTime": {
     "end_time": "2020-03-31T00:49:24.922869Z",
     "start_time": "2020-03-31T00:49:24.892867Z"
    },
    "collapsed": false
   },
   "outputs": [],
   "source": [
    "initial_train, initial_test = train_test_split(initial_df, test_size=0.3, random_state=0)\n",
    "additional_train, additional_test = train_test_split(additional_df, test_size=0.3, random_state=0)"
   ]
  },
  {
   "cell_type": "code",
   "execution_count": 9,
   "metadata": {
    "ExecuteTime": {
     "end_time": "2020-03-31T00:49:32.924806Z",
     "start_time": "2020-03-31T00:49:24.931868Z"
    },
    "collapsed": false
   },
   "outputs": [
    {
     "name": "stderr",
     "output_type": "stream",
     "text": [
      "D:\\Soft\\Anaconda3\\lib\\site-packages\\sklearn\\feature_extraction\\text.py:385: UserWarning: Your stop_words may be inconsistent with your preprocessing. Tokenizing the stop words generated tokens ['aren', 'can', 'couldn', 'didn', 'doesn', 'don', 'hadn', 'hasn', 'haven', 'isn', 'let', 'll', 'mustn', 're', 'shan', 'shouldn', 've', 'wasn', 'weren', 'won', 'wouldn'] not in stop_words.\n",
      "  'stop_words.' % sorted(inconsistent))\n"
     ]
    },
    {
     "name": "stdout",
     "output_type": "stream",
     "text": [
      "Classification report:\n",
      "                          precision    recall  f1-score   support\n",
      "\n",
      "comp.sys.ibm.pc.hardware       0.99      0.98      0.99       294\n",
      "      rec.sport.baseball       0.98      0.98      0.98       308\n",
      "      talk.politics.guns       0.98      0.99      0.98       264\n",
      "\n",
      "                accuracy                           0.98       866\n",
      "               macro avg       0.98      0.99      0.99       866\n",
      "            weighted avg       0.99      0.98      0.98       866\n",
      "\n",
      "\n",
      "ROC-AUC Score: 0.9994522360572858\n"
     ]
    }
   ],
   "source": [
    "vectorizer = TfidfVectorizer(\n",
    "    use_idf=True, \n",
    "    min_df=10,\n",
    "    max_features=100000,\n",
    "    ngram_range=(1, 3),\n",
    "    stop_words=get_stop_words('en'),\n",
    "    norm='l2')\n",
    "clf = SGDClassifier(loss='modified_huber', alpha=0.0001, penalty='l2', max_iter=500, random_state=0)\n",
    "\n",
    "initial_pipeline = Pipeline([\n",
    "        ('vect', vectorizer),\n",
    "        ('clf', clf)\n",
    "    ])\n",
    "\n",
    "initial_pipeline.fit(initial_train['Text'], initial_train['Target'])\n",
    "\n",
    "print('Classification report:')\n",
    "print(classification_report(initial_pipeline.predict(initial_test['Text']), initial_test['Target']))\n",
    "\n",
    "print('\\nROC-AUC Score: {}'.format(roc_auc_score(\n",
    "            initial_test['Target'], \n",
    "            initial_pipeline.predict_proba(initial_test['Text']), \n",
    "            multi_class='ovo')))"
   ]
  },
  {
   "cell_type": "code",
   "execution_count": 10,
   "metadata": {
    "ExecuteTime": {
     "end_time": "2020-03-31T00:49:33.137809Z",
     "start_time": "2020-03-31T00:49:32.935805Z"
    },
    "collapsed": false
   },
   "outputs": [],
   "source": [
    "def generate_texts(tokens: List[str]) -> List[str]:\n",
    "    texts = [' '.join(x) for x in np.random.choice(tokens, (2000, 100))]\n",
    "    return texts\n",
    "\n",
    "def extend_classifer(new_df: pd.DataFrame, initial_pipline: Pipeline) -> Pipeline:\n",
    "    initial_vect = initial_pipeline.named_steps['vect']\n",
    "    initial_model = initial_pipeline.named_steps['clf']\n",
    "    \n",
    "    # generating new samples for existing classes from fitted TfidfVectorizer\n",
    "    generated_texts = generate_texts(initial_vect.get_feature_names())\n",
    "    \n",
    "    # Create new SGDClassifier with same as previous parameters\n",
    "    clf = SGDClassifier(loss='modified_huber', alpha=0.0001, penalty='l2', max_iter=500, random_state=0)\n",
    "    \n",
    "    # Create new dataframe with generated texts and new data\n",
    "    df = pd.DataFrame({'Text': generated_texts, 'Target': ['Other'] * len(generated_texts)})\n",
    "    new_df = pd.concat([new_df, df])\n",
    "    \n",
    "    # Transform new texts with existing fitted vectorizer\n",
    "    X = initial_vect.transform(new_df['Text'])\n",
    "    y = new_df['Target']\n",
    "\n",
    "    clf.fit(X, y)\n",
    "    \n",
    "    # Clone initial model\n",
    "    new_model = clone_model(initial_model)\n",
    "    \n",
    "    # Update initial classifier's attributes\n",
    "    new_model.classes_ = np.append(initial_model.classes_, clf.classes_[1])\n",
    "    new_model.coef_ = np.append(initial_model.coef_, clf.coef_, axis=0)\n",
    "    new_model.intercept_ = np.append(initial_model.intercept_, clf.intercept_)\n",
    "    \n",
    "    # New pipeline with updated classifier\n",
    "    return Pipeline([\n",
    "            ('vect', initial_vect),\n",
    "            ('clf', new_model)\n",
    "        ])"
   ]
  },
  {
   "cell_type": "code",
   "execution_count": 11,
   "metadata": {
    "ExecuteTime": {
     "end_time": "2020-03-31T00:49:43.764802Z",
     "start_time": "2020-03-31T00:49:33.157809Z"
    },
    "collapsed": false
   },
   "outputs": [
    {
     "name": "stderr",
     "output_type": "stream",
     "text": [
      "D:\\Soft\\Anaconda3\\lib\\site-packages\\ipykernel\\__main__.py:13: FutureWarning: Sorting because non-concatenation axis is not aligned. A future version\n",
      "of pandas will change to not sort by default.\n",
      "\n",
      "To accept the future behavior, pass 'sort=False'.\n",
      "\n",
      "To retain the current behavior and silence the warning, pass 'sort=True'.\n",
      "\n"
     ]
    },
    {
     "name": "stdout",
     "output_type": "stream",
     "text": [
      "Classification report:\n",
      "                          precision    recall  f1-score   support\n",
      "\n",
      "comp.sys.ibm.pc.hardware       0.78      0.87      0.82       261\n",
      "      rec.sport.baseball       0.83      1.00      0.91       258\n",
      "         sci.electronics       0.88      0.64      0.74       409\n",
      "      talk.politics.guns       0.88      1.00      0.93       234\n",
      "\n",
      "                accuracy                           0.84      1162\n",
      "               macro avg       0.84      0.88      0.85      1162\n",
      "            weighted avg       0.85      0.84      0.84      1162\n",
      "\n",
      "\n",
      "ROC-AUC Score: 0.6682616497756867\n"
     ]
    }
   ],
   "source": [
    "p = extend_classifer(additional_train, initial_pipeline)\n",
    "\n",
    "test = pd.concat([initial_test, additional_test])\n",
    "print('Classification report:')\n",
    "print(classification_report(p.predict(test['Text']), test['Target']))\n",
    "\n",
    "print('\\nROC-AUC Score: {}'.format(roc_auc_score(\n",
    "            test['Target'],\n",
    "            p.predict_proba(test['Text']),\n",
    "            multi_class='ovo')))"
   ]
  },
  {
   "cell_type": "code",
   "execution_count": 12,
   "metadata": {
    "ExecuteTime": {
     "end_time": "2020-03-31T00:49:45.460631Z",
     "start_time": "2020-03-31T00:49:43.767800Z"
    },
    "collapsed": false
   },
   "outputs": [
    {
     "data": {
      "text/plain": [
       "<sklearn.metrics._plot.confusion_matrix.ConfusionMatrixDisplay at 0x2843b35b908>"
      ]
     },
     "execution_count": 12,
     "metadata": {},
     "output_type": "execute_result"
    },
    {
     "data": {
      "image/png": "[encoded data removed]",
      "text/plain": [
       "<matplotlib.figure.Figure at 0x2843fbdb2b0>"
      ]
     },
     "metadata": {},
     "output_type": "display_data"
    }
   ],
   "source": [
    "plot_confusion_matrix(\n",
    "    p, \n",
    "    pd.concat([initial_test, additional_test])['Text'], \n",
    "    pd.concat([initial_test, additional_test])['Target'], \n",
    "    normalize='true')"
   ]
  }
 ],
 "metadata": {
  "anaconda-cloud": {},
  "kernelspec": {
   "display_name": "Python [Root]",
   "language": "python",
   "name": "Python [Root]"
  },
  "language_info": {
   "codemirror_mode": {
    "name": "ipython",
    "version": 3
   },
   "file_extension": ".py",
   "mimetype": "text/x-python",
   "name": "python",
   "nbconvert_exporter": "python",
   "pygments_lexer": "ipython3",
   "version": "3.5.2"
  }
 },
 "nbformat": 4,
 "nbformat_minor": 2
}
